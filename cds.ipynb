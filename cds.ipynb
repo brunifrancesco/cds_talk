{
 "cells": [
  {
   "cell_type": "markdown",
   "metadata": {
    "slideshow": {
     "slide_type": "slide"
    }
   },
   "source": [
    "# Introduction to functional programming in Python\n",
    "<table style=\"margin-top:30px; border:none\" align=\"left\">\n",
    "    <tr style=\"border:none\"><td style=\"border:none\"><p>Francesco Bruni</p></td></tr>\n",
    "    <tr style=\"border:none\" style=\"width:100%\">\n",
    "        <td style=\"border:none\" style=\"width:90%\"><p>@brunifrancesco</p></td>\n",
    "    </tr>\n",
    "</table>\n"
   ]
  },
  {
   "cell_type": "markdown",
   "metadata": {
    "slideshow": {
     "slide_type": "subslide"
    }
   },
   "source": [
    "##Who am I\n",
    "\n",
    "- MSc Student in Telecommunication Engineering @ Poliba\n",
    "- Despite a Java background, I prefer Python whenever possible\n",
    "- I'm not a computer scientist"
   ]
  },
  {
   "cell_type": "markdown",
   "metadata": {
    "collapsed": true,
    "slideshow": {
     "slide_type": "subslide"
    }
   },
   "source": [
    "##What we'll talk about\n",
    "\n",
    "- Why functional programming\n",
    "- Why Python\n",
    "- Functional features in Python\n",
    "    - First class functions\n",
    "    - Immutable vs mutable data\n",
    "    - Lazy evaluation\n",
    "    - Recursion vs loop\n",
    "    - (Manual) Currying\n",
    "- Useful functional programming resources\n",
    "- Conclusions\n"
   ]
  },
  {
   "cell_type": "markdown",
   "metadata": {
    "slideshow": {
     "slide_type": "slide"
    }
   },
   "source": [
    "#Why functional programming\n",
    "- Think in terms of functions\n",
    "- State as function evaluation, not variables assignment\n",
    "- Testing is (more) easy\n",
    "- A new viewpoint is required"
   ]
  },
  {
   "cell_type": "code",
   "execution_count": 1,
   "metadata": {
    "collapsed": false,
    "slideshow": {
     "slide_type": "subslide"
    }
   },
   "outputs": [],
   "source": [
    "import random\n",
    "def sum_imperative():\n",
    "    res = 0\n",
    "    for n in [random.random() for _ in range(100)]:\n",
    "        res += n\n",
    "    return res\n",
    "\n",
    "def sum_functional():\n",
    "    return sum(random.random() for _ in range(100))\n"
   ]
  },
  {
   "cell_type": "markdown",
   "metadata": {
    "collapsed": true,
    "slideshow": {
     "slide_type": "slide"
    }
   },
   "source": [
    "#Why Python\n",
    "\n",
    "There are a lot of languages out there.."
   ]
  },
  {
   "cell_type": "markdown",
   "metadata": {
    "slideshow": {
     "slide_type": "subslide"
    }
   },
   "source": [
    "##Pros\n",
    "- Mature enough\n",
    "- Multiparadigm and multipurpose\n",
    "- Easy to learn\n",
    "- Interactive shell\n",
    "- Multiple implementantions (C, Java, Python, .NET, Ruby, Js)\n",
    "- Extending requires few lines of code\n",
    "\n"
   ]
  },
  {
   "cell_type": "markdown",
   "metadata": {
    "collapsed": true,
    "slideshow": {
     "slide_type": "subslide"
    }
   },
   "source": [
    "##Cons\n",
    "- Python 3 vs Python 2\n",
    "- No typed variables\n",
    "- CPython is the widest used implementation\n",
    "- Changing implementation (or version upgrading) is not (always) a free iussues transition"
   ]
  },
  {
   "cell_type": "markdown",
   "metadata": {
    "slideshow": {
     "slide_type": "subslide"
    }
   },
   "source": [
    "##Python is not Java\n",
    "**Task**: generate a list of numbers between 1 and 100, multiple of 2, whose does not end with the \"4\" digit\n"
   ]
  },
  {
   "cell_type": "code",
   "execution_count": 3,
   "metadata": {
    "collapsed": false,
    "slideshow": {
     "slide_type": "subslide"
    }
   },
   "outputs": [],
   "source": [
    "def java_approach(size=100):\n",
    "    l = []\n",
    "    i=10\n",
    "    while i < size:\n",
    "        if i % 2 == 0 and not str(i).endswith(\"4\"):\n",
    "          l.append(i)\n",
    "        i += 1\n",
    "    return l"
   ]
  },
  {
   "cell_type": "code",
   "execution_count": 4,
   "metadata": {
    "collapsed": false,
    "slideshow": {
     "slide_type": "subslide"
    }
   },
   "outputs": [],
   "source": [
    "def python_better_approach(size=100):\n",
    "    l = [item for item in range(10, size) if not item % 2 and not str(item).endswith(\"4\")]\n",
    "    return l\n",
    "\n",
    "assert(java_approach() == python_better_approach())"
   ]
  },
  {
   "cell_type": "markdown",
   "metadata": {
    "slideshow": {
     "slide_type": "subslide"
    }
   },
   "source": [
    "##Python signatures supports Java **varags** (and much more)"
   ]
  },
  {
   "cell_type": "code",
   "execution_count": 5,
   "metadata": {
    "collapsed": false
   },
   "outputs": [],
   "source": [
    "def python_better_approach(size, *args, **kwargs):\n",
    "    l = [item for item in range(10, size) if not item % 2 and not str(item).endswith(\"4\")]\n",
    "    return l\n",
    "\n",
    "assert(java_approach() == python_better_approach(**dict(size=100, ciccio=\"wow!\")))\n",
    "assert(java_approach() == python_better_approach(size=100))"
   ]
  },
  {
   "cell_type": "code",
   "execution_count": 6,
   "metadata": {
    "collapsed": true,
    "slideshow": {
     "slide_type": "subslide"
    }
   },
   "outputs": [],
   "source": [
    "class SampleData(object):\n",
    "    def __init__(self, x, y, z, t):\n",
    "        self.x = x\n",
    "        self.y = y\n",
    "        self.z = z\n",
    "        self.t = t\n",
    "    \n",
    "    def __eq__(self, other):\n",
    "        return (True if self.__dict__ == other.__dict__ else False)\n",
    "\n",
    "sample_data_1 = SampleData(x=1,y=2,z=3,t=4)\n",
    "sample_data_2 = SampleData(**dict(x=1,y=2,z=3,t=4))\n",
    "\n",
    "assert(sample_data_1 == sample_data_2)"
   ]
  },
  {
   "cell_type": "markdown",
   "metadata": {
    "slideshow": {
     "slide_type": "slide"
    }
   },
   "source": [
    "#Functional features in Python\n",
    "\n",
    "- Not all functional patterns apply to Python\n",
    "- Hybrid approach is often requested\n",
    "- Other libraries needs to be (eventually) integrated\n",
    "\n"
   ]
  },
  {
   "cell_type": "markdown",
   "metadata": {
    "slideshow": {
     "slide_type": "subslide"
    }
   },
   "source": [
    "##First class functions\n",
    "\n",
    "- Functions are objects too\n",
    "- They have fields too and some basic method\n"
   ]
  },
  {
   "cell_type": "code",
   "execution_count": 15,
   "metadata": {
    "collapsed": false,
    "slideshow": {
     "slide_type": "subslide"
    }
   },
   "outputs": [],
   "source": [
    "def func_1(x=\"32\"):\n",
    "    assert(x)\n",
    "\n",
    "def func_2():\n",
    "    return \"wow!\"\n",
    "\n",
    "func_3 = lambda some_param: str(some_param)"
   ]
  },
  {
   "cell_type": "markdown",
   "metadata": {
    "slideshow": {
     "slide_type": "subslide"
    }
   },
   "source": [
    "##High order functions\n",
    "\n",
    "- Functions which accept functions as params;\n",
    "- Functions which return other functions;\n",
    "- Python std lib examples for mapping: **filter**, **map**, **sorted**, \n",
    "- Python std lib examples for reducing: **max**, **min**, **sum**\n",
    "\n",
    "**Task**: given the previous generated list, filter some number out and sort the result by the second digit."
   ]
  },
  {
   "cell_type": "code",
   "execution_count": 11,
   "metadata": {
    "collapsed": false,
    "slideshow": {
     "slide_type": "subslide"
    }
   },
   "outputs": [
    {
     "data": {
      "text/plain": [
       "<filter at 0x104290a58>"
      ]
     },
     "execution_count": 11,
     "metadata": {},
     "output_type": "execute_result"
    }
   ],
   "source": [
    "def filter_out():\n",
    "    \n",
    "    result = python_better_approach()\n",
    "    \n",
    "    exclude = map(lambda item: item ** 2, range(30))\n",
    "\n",
    "    result = filter(lambda item: item not in exclude, result)\n",
    "    \n",
    "    return sorted(result, key=lambda item: str(item)[1])\n",
    "    \n",
    "\n",
    "filter(lambda item: item not in map(lambda item: item ** 2, range(30)), python_better_approach(size=100))"
   ]
  },
  {
   "cell_type": "markdown",
   "metadata": {
    "slideshow": {
     "slide_type": "subslide"
    }
   },
   "source": [
    "##Class for function composition\n",
    "Handle class creation via a new class syntax, allowing a \"static\" configuration\n"
   ]
  },
  {
   "cell_type": "code",
   "execution_count": 54,
   "metadata": {
    "collapsed": false
   },
   "outputs": [],
   "source": [
    "from collections.abc import Callable\n",
    "\n",
    "class ExcludeFunction(Callable):\n",
    "    def __init__(self, exclude_function):\n",
    "        self.exclude_function= exclude_function\n",
    "    \n",
    "    def __call__(self, value):\n",
    "        return None if not value else self.exclude_function(value)\n",
    "\n",
    "result = python_better_approach(size=100)\n",
    "exclude_function_1 = lambda item: item ** 2\n",
    "ex_func = ExcludeFunction(exclude_function_1)\n",
    "\n",
    "result = filter(lambda item: not item == ex_func(item), result)\n",
    "assert(sorted(result, key=lambda item: str(item)[1]) == filter_out())"
   ]
  },
  {
   "cell_type": "markdown",
   "metadata": {
    "slideshow": {
     "slide_type": "subslide"
    }
   },
   "source": [
    "#Immutable vs mutable data structure\n",
    "\n",
    "- Since state is not given by variable assignement, there's no need of mutables data\n",
    "- (Almost) no classes are required\n",
    "- Instead of lists, **tuples** are reccomanded\n",
    "- Instead of classes, **namedtuple** can be used"
   ]
  },
  {
   "cell_type": "code",
   "execution_count": 1,
   "metadata": {
    "collapsed": false,
    "slideshow": {
     "slide_type": "subslide"
    }
   },
   "outputs": [],
   "source": [
    "import random\n",
    "import pprint\n",
    "from collections import namedtuple\n",
    "\n",
    "MyObj = namedtuple(\"MyClassReplacement\",(\"some_string\", \"my_custom_function\"))\n",
    "o = MyObj(some_string=str(random.random() + 4), my_custom_function=lambda item: float(item)*3)\n",
    "assert(o.my_custom_function(o.some_string) == float(o.some_string) * 3)\n",
    "\n",
    "\n",
    "r = [(MyObj(some_string=str(random.random() + 4), my_custom_function=lambda item: float(item)*3), _) for _ in range(3)]\n",
    "\n",
    "def nested_tuples():\n",
    "    r_1 = [(i, index) for index, i in enumerate(r)]\n",
    "    \n",
    "def flat_tuples():\n",
    "    r_2 = [(i[0], i[1], index) for index, i in enumerate(r)]\n"
   ]
  },
  {
   "cell_type": "markdown",
   "metadata": {
    "slideshow": {
     "slide_type": "subslide"
    }
   },
   "source": [
    "##Strict vs not strict evaluation\n",
    "\n",
    "- Strict evaluation requires that all operators needs to be evaluated\n",
    "- Non strict (or lazy) evaluation, evaluates expression if and when requested"
   ]
  },
  {
   "cell_type": "code",
   "execution_count": 18,
   "metadata": {
    "collapsed": false
   },
   "outputs": [],
   "source": [
    "assert((python_better_approach(size=100) or 0))\n",
    "assert(not(0 and python_better_approach(size=100)))"
   ]
  },
  {
   "cell_type": "markdown",
   "metadata": {
    "slideshow": {
     "slide_type": "subslide"
    }
   },
   "source": [
    "##Use case: Python iterables structures\n",
    "\n",
    "- **Iterable**: objects than can be iterated;\n",
    "- **Iterator**: objects than can be iterated and consumed only once, with two main problems:\n",
    "    - They track their state in a stateful object\n",
    "    - Their values are generated *a priori*\n",
    "    - They aren't lazy\n",
    "- **Generators**: lazy evaluated data structures:\n",
    "    - They track state in function, instead of object\n",
    "    - They don't act as normal functions\n",
    "    - They generate next member when invoked"
   ]
  },
  {
   "cell_type": "code",
   "execution_count": 74,
   "metadata": {
    "collapsed": false,
    "slideshow": {
     "slide_type": "subslide"
    }
   },
   "outputs": [],
   "source": [
    "def _iter(size=100):\n",
    "    return iter(python_better_approach(size=size))\n",
    "\n",
    "\n",
    "def lazy_python_approach(size=100):\n",
    "     for item in range(10, size):\n",
    "        if not item % 2 and not str(item).endswith(\"4\"):\n",
    "            yield item\n",
    "\n",
    "def lazy_new_python_approach(size=100):\n",
    "    yield from (r for r in range(10, size) if not r % 2 and not str(r).endswith(\"4\"))"
   ]
  },
  {
   "cell_type": "markdown",
   "metadata": {
    "slideshow": {
     "slide_type": "subslide"
    }
   },
   "source": [
    "##Recursion vs loop\n",
    "- Functional programming requires a recursion approach vs loop iteration\n",
    "- Python suffers by recursion limit\n",
    "- Python does not offer any tail call optimization"
   ]
  },
  {
   "cell_type": "code",
   "execution_count": 7,
   "metadata": {
    "collapsed": false,
    "slideshow": {
     "slide_type": "subslide"
    }
   },
   "outputs": [],
   "source": [
    "def facti(n):\n",
    "    if n == 0: return 1\n",
    "    f= 1\n",
    "    for i in range(2,n):\n",
    "        f *= i\n",
    "    return f\n",
    "\n",
    "def fact(n):\n",
    "    if n == 0: return 1\n",
    "    else: return n*fact(n-1)"
   ]
  },
  {
   "cell_type": "markdown",
   "metadata": {
    "slideshow": {
     "slide_type": "subslide"
    }
   },
   "source": [
    "##Currying\n",
    "\n",
    "Multiple arguments functions mapped to single arguments functions"
   ]
  },
  {
   "cell_type": "code",
   "execution_count": 19,
   "metadata": {
    "collapsed": false,
    "slideshow": {
     "slide_type": "subslide"
    }
   },
   "outputs": [],
   "source": [
    "from random import randrange\n",
    "\n",
    "def mult(a, b, c ):\n",
    "    def wrapper_1(b):\n",
    "        def wrapper_2(c):\n",
    "            return a*b*c\n",
    "        return wrapper_2(c)\n",
    "    return wrapper_1(b)\n",
    "\n",
    "\n",
    "def mult_2(a):\n",
    "    def wrapper_1(b):\n",
    "        def wrapper_2(c):\n",
    "            return a*b*c\n",
    "        return wrapper_2\n",
    "    return wrapper_1\n",
    "\n",
    "\n",
    "assert(mult(2,4,8) == 64)\n",
    "assert(mult_2(2)(3)(4) == 24)"
   ]
  },
  {
   "cell_type": "markdown",
   "metadata": {},
   "source": [
    "##Partials\n",
    "Python provides \"partial\" functions for manual currying"
   ]
  },
  {
   "cell_type": "code",
   "execution_count": 21,
   "metadata": {
    "collapsed": false,
    "slideshow": {
     "slide_type": "subslide"
    }
   },
   "outputs": [],
   "source": [
    "from functools import reduce\n",
    "import operator\n",
    "import random\n",
    "\n",
    "def two_random_sum():\n",
    "    return reduce(operator.sum, [random.random()]*2)\n",
    "\n",
    "def three_random_product():\n",
    "    return reduce(operator.mul, [random.random()]*3)\n",
    "\n",
    "def four_random_sub():\n",
    "    return reduce(operator.sub, [random.random()]*4)\n",
    "\n",
    "def five_random_pow ():\n",
    "    return reduce(operator.pow, [random.random()]*5)\n"
   ]
  },
  {
   "cell_type": "code",
   "execution_count": 24,
   "metadata": {
    "collapsed": false,
    "slideshow": {
     "slide_type": "subslide"
    }
   },
   "outputs": [],
   "source": [
    "def handle_random_numbers(size, function):\n",
    "    return reduce(function, [random.random()]*size)\n",
    "\n",
    "two_random_sum = partial(handle_random_numbers, size=2)\n",
    "three_random_sum = partial(handle_random_numbers, size=3)\n",
    "\n",
    "two_random_pow = partial(handle_random_numbers, size=2, function=operator.pow)\n",
    "five_random_product = partial(handle_random_numbers, size=5, function=operator.mul)\n"
   ]
  },
  {
   "cell_type": "markdown",
   "metadata": {},
   "source": [
    "##Decorator Pattern\n",
    "\n",
    "Return a modified version of a decorated function"
   ]
  },
  {
   "cell_type": "code",
   "execution_count": 116,
   "metadata": {
    "collapsed": false
   },
   "outputs": [],
   "source": [
    "from functools import wraps\n",
    "from functools import partial\n",
    "\n",
    "def get_ned_data(n):\n",
    "    def get_doubled_data(func, *args, **kwargs):\n",
    "        @wraps(func)\n",
    "        def _inner(*args, **kwargs):\n",
    "            kwargs[\"new_param\"] = kwargs[\"some_param\"]*n\n",
    "            return func(*args, **kwargs)\n",
    "        return _inner\n",
    "    return get_doubled_data\n",
    "\n",
    "\n",
    "@get_ned_data(n=2)\n",
    "def double_func(*args, **kwargs):\n",
    "    assert(kwargs[\"new_param\"] == kwargs[\"some_param\"]*2)\n",
    "\n",
    "@get_ned_data(n=3)\n",
    "def triple_func(*args, **kwargs):\n",
    "    assert(kwargs[\"new_param\"] == kwargs[\"some_param\"]*3)\n",
    "    \n",
    "double_func(some_param=3)\n",
    "triple_func(some_param=5)"
   ]
  },
  {
   "cell_type": "markdown",
   "metadata": {
    "slideshow": {
     "slide_type": "subslide"
    }
   },
   "source": [
    "#Monads\n",
    "\n",
    "\n",
    "- How to handle error in functional programming?\n",
    "- Practical example: parsing and tranforming data coming from http request\n",
    "- Python \"std\" libs have no support"
   ]
  },
  {
   "cell_type": "code",
   "execution_count": 20,
   "metadata": {
    "collapsed": false
   },
   "outputs": [],
   "source": [
    "from fn.monad import optionable\n",
    "\n",
    "def get(request, *args, **kwargs):\n",
    "    @optionable\n",
    "    def _get_values(data):\n",
    "        return data.get(\"values\", None)\n",
    "    _split = lambda item: item.split(\",\")\n",
    "    _strip = lambda item: item.replace(\" \", \"\")\n",
    "    _filter = lambda item: list(filter(lambda i: i, item))\n",
    "    values = _get_values(request.GET).map(_strip).map(_split).map(_filter).get_or([\"v1,v2\"])\n",
    "    return values\n",
    "\n",
    "\n",
    "from collections import namedtuple\n",
    "def test():\n",
    "    _req_class = namedtuple(\"Request\", (\"GET\"))\n",
    "    \n",
    "    request_1 = _req_class(dict(values=\"v1, v2,v3\"))\n",
    "    request_2 = _req_class(dict(values=\"v1,v2,v3 \"))\n",
    "    request_3 = _req_class(dict(values=\"v1, v2,v3, \"))\n",
    "    \n",
    "    assert(get(request_1) == ['v1', 'v2', 'v3'])\n",
    "    assert(get(request_2) == ['v1', 'v2', 'v3'])\n",
    "    assert(get(request_3) == ['v1', 'v2', 'v3'])\n",
    "\n",
    "test()"
   ]
  },
  {
   "cell_type": "markdown",
   "metadata": {},
   "source": [
    " #Useful libraries\n",
    "\n",
    "- **Fn.py** (https://github.com/kachayev/fn.py) (Scala functional features ported to Python)\n",
    "- **Underscore.py** (ported from underscore_js)"
   ]
  },
  {
   "cell_type": "markdown",
   "metadata": {
    "slideshow": {
     "slide_type": "slide"
    }
   },
   "source": [
    "#Conclusion\n",
    "- Functional programming for writing more succint code\n",
    "- Change viewpoint: think in terms of function\n",
    "- Python seems for dummies until you show some cool features\n",
    "- Python can be slow but with a fine tuning can be more efficien"
   ]
  },
  {
   "cell_type": "markdown",
   "metadata": {
    "slideshow": {
     "slide_type": "slide"
    }
   },
   "source": [
    "#Questions?"
   ]
  }
 ],
 "metadata": {
  "celltoolbar": "Slideshow",
  "kernelspec": {
   "display_name": "Python 3",
   "language": "python",
   "name": "python3"
  },
  "language_info": {
   "codemirror_mode": {
    "name": "ipython",
    "version": 3
   },
   "file_extension": ".py",
   "mimetype": "text/x-python",
   "name": "python",
   "nbconvert_exporter": "python",
   "pygments_lexer": "ipython3",
   "version": "3.4.2"
  }
 },
 "nbformat": 4,
 "nbformat_minor": 0
}
